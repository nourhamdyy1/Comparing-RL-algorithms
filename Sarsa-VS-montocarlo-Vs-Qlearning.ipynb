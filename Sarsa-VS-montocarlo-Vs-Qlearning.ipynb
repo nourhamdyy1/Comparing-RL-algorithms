{
  "cells": [
    {
      "cell_type": "code",
      "execution_count": 2,
      "metadata": {},
      "outputs": [],
      "source": [
        "import gym\n",
        "import numpy as np\n",
        "import random\n",
        "import matplotlib.pyplot as plt\n",
        "from collections import defaultdict\n",
        "\n",
        "# Initialize the cart-pole environment with render_mode='human'\n",
        "env = gym.make('CartPole-v1', render_mode='human')\n",
        "\n",
        "# Define the state space bins for discretization\n",
        "num_bins = [6, 12, 6, 12]  # Number of bins for each state variable\n",
        "\n",
        "# Discretize the state space\n",
        "def discretize_state(state, bins):\n",
        "    \"\"\"Discretizes a continuous state into discrete bins.\n",
        "    \n",
        "    Args:\n",
        "        state (array): The continuous state.\n",
        "        bins (list): List of the number of bins for each state variable.\n",
        "        \n",
        "    Returns:\n",
        "        tuple: Discretized state as a tuple of bin indices.\n",
        "    \"\"\"\n",
        "    upper_bounds = [env.observation_space.high[0], 0.5, env.observation_space.high[2], np.radians(50)]\n",
        "    lower_bounds = [env.observation_space.low[0], -0.5, env.observation_space.low[2], -np.radians(50)]\n",
        "    \n",
        "    ratios = [(state[i] + abs(lower_bounds[i])) / (upper_bounds[i] - lower_bounds[i]) for i in range(len(state))]\n",
        "    \n",
        "    new_state = [int(round((bins[i] - 1) * ratios[i])) for i in range(len(state))]\n",
        "    new_state = [min(bins[i] - 1, max(0, new_state[i])) for i in range(len(state))]\n",
        "    \n",
        "    return tuple(new_state)"
      ]
    },
    {
      "cell_type": "code",
      "execution_count": 3,
      "metadata": {},
      "outputs": [],
      "source": [
        "# Define epsilon-greedy policy\n",
        "def epsilon_greedy_policy(Q, state, epsilon):\n",
        "    if random.uniform(0, 1) < epsilon:\n",
        "        return env.action_space.sample()  # Explore action space\n",
        "    else:\n",
        "        return np.argmax(Q[state])  # Exploit learned values"
      ]
    },
    {
      "cell_type": "code",
      "execution_count": 4,
      "metadata": {},
      "outputs": [],
      "source": [
        "# Monte Carlo algorithm\n",
        "def monte_carlo(env, episodes, gamma=1.0, epsilon=0.1):\n",
        "    Q = defaultdict(lambda: np.zeros(env.action_space.n))\n",
        "    returns_sum = defaultdict(lambda: np.zeros(env.action_space.n))\n",
        "    returns_count = defaultdict(lambda: np.zeros(env.action_space.n))\n",
        "    \n",
        "    for episode in range(episodes):\n",
        "        # Generate an episode\n",
        "        episode_data = []\n",
        "        state, _ = env.reset()\n",
        "        state = discretize_state(state, num_bins)\n",
        "        done = False\n",
        "        while not done:\n",
        "            action = epsilon_greedy_policy(Q, state, epsilon)\n",
        "            next_state, reward, done, _, _ = env.step(action)\n",
        "            next_state = discretize_state(next_state, num_bins)\n",
        "            episode_data.append((state, action, reward))\n",
        "            state = next_state\n",
        "        \n",
        "        # Update Q values based on episode\n",
        "        G = 0\n",
        "        for state, action, reward in reversed(episode_data):\n",
        "            G = gamma * G + reward\n",
        "            if not (state, action) in [(x[0], x[1]) for x in episode_data[:-1]]:\n",
        "                returns_sum[state][action] += G\n",
        "                returns_count[state][action] += 1.0\n",
        "                Q[state][action] = returns_sum[state][action] / returns_count[state][action]\n",
        "    \n",
        "    return Q"
      ]
    },
    {
      "cell_type": "code",
      "execution_count": 5,
      "metadata": {},
      "outputs": [],
      "source": [
        "# Q-Learning algorithm\n",
        "def q_learning(env, episodes, alpha=0.1, gamma=0.99, epsilon=0.1):\n",
        "    Q = defaultdict(lambda: np.zeros(env.action_space.n))\n",
        "    \n",
        "    for episode in range(episodes):\n",
        "        state, _ = env.reset()\n",
        "        state = discretize_state(state, num_bins)\n",
        "        done = False\n",
        "        \n",
        "        while not done:\n",
        "            action = epsilon_greedy_policy(Q, state, epsilon)\n",
        "            next_state, reward, done, _, _ = env.step(action)\n",
        "            next_state = discretize_state(next_state, num_bins)\n",
        "            \n",
        "            best_next_action = np.argmax(Q[next_state])\n",
        "            td_target = reward + gamma * Q[next_state][best_next_action]\n",
        "            td_delta = td_target - Q[state][action]\n",
        "            Q[state][action] += alpha * td_delta\n",
        "            \n",
        "            state = next_state\n",
        "    \n",
        "    return Q"
      ]
    },
    {
      "cell_type": "code",
      "execution_count": 6,
      "metadata": {},
      "outputs": [],
      "source": [
        "# SARSA algorithm\n",
        "def sarsa(env, episodes, alpha=0.1, gamma=0.99, epsilon=0.1):\n",
        "    Q = defaultdict(lambda: np.zeros(env.action_space.n))\n",
        "    \n",
        "    for episode in range(episodes):\n",
        "        state, _ = env.reset()\n",
        "        state = discretize_state(state, num_bins)\n",
        "        action = epsilon_greedy_policy(Q, state, epsilon)\n",
        "        done = False\n",
        "        \n",
        "        while not done:\n",
        "            next_state, reward, done, _, _ = env.step(action)\n",
        "            next_state = discretize_state(next_state, num_bins)\n",
        "            next_action = epsilon_greedy_policy(Q, next_state, epsilon)\n",
        "            \n",
        "            td_target = reward + gamma * Q[next_state][next_action]\n",
        "            td_delta = td_target - Q[state][action]\n",
        "            Q[state][action] += alpha * td_delta\n",
        "            \n",
        "            state = next_state\n",
        "            action = next_action\n",
        "    \n",
        "    return Q"
      ]
    },
    {
      "cell_type": "code",
      "execution_count": 7,
      "metadata": {},
      "outputs": [],
      "source": [
        "def evaluate_policy(env, Q, episodes=100):\n",
        "    total_rewards = 0\n",
        "    for _ in range(episodes):\n",
        "        state, _ = env.reset()\n",
        "        state = discretize_state(state, num_bins)\n",
        "        done = False\n",
        "        while not done:\n",
        "            action = np.argmax(Q[state])\n",
        "            next_state, reward, done, _, _ = env.step(action)\n",
        "            next_state = discretize_state(next_state, num_bins)\n",
        "            state = next_state\n",
        "            total_rewards += reward\n",
        "    return total_rewards / episodes"
      ]
    },
    {
      "cell_type": "code",
      "execution_count": 9,
      "metadata": {},
      "outputs": [
        {
          "name": "stdout",
          "output_type": "stream",
          "text": [
            "Monte Carlo average reward: 9.4\n",
            "Q-Learning average reward: 10.3\n",
            "SARSA average reward: 10.4\n"
          ]
        },
        {
          "data": {
            "image/png": "[encoded data removed]",
            "text/plain": [
              "<Figure size 640x480 with 1 Axes>"
            ]
          },
          "metadata": {},
          "output_type": "display_data"
        }
      ],
      "source": [
        "# Training parameters\n",
        "episodes = 50\n",
        "eval_episodes = 10\n",
        "\n",
        "# Train Monte Carlo agent\n",
        "mc_Q = monte_carlo(env, episodes, gamma=1.0, epsilon=0.1)\n",
        "mc_reward = evaluate_policy(env, mc_Q, eval_episodes)\n",
        "print(f\"Monte Carlo average reward: {mc_reward}\")\n",
        "\n",
        "# Train Q-Learning agent\n",
        "ql_Q = q_learning(env, episodes, alpha=0.1, gamma=0.99, epsilon=0.1)\n",
        "ql_reward = evaluate_policy(env, ql_Q, eval_episodes)\n",
        "print(f\"Q-Learning average reward: {ql_reward}\")\n",
        "\n",
        "# Train SARSA agent\n",
        "sarsa_Q = sarsa(env, episodes, alpha=0.1, gamma=0.99, epsilon=0.1)\n",
        "sarsa_reward = evaluate_policy(env, sarsa_Q, eval_episodes)\n",
        "print(f\"SARSA average reward: {sarsa_reward}\")\n",
        "\n",
        "\n",
        "# Plot comparison of rewards\n",
        "labels = ['Monte Carlo', 'Q-Learning', 'SARSA']\n",
        "rewards = [mc_reward, ql_reward, sarsa_reward]\n",
        "\n",
        "plt.bar(labels, rewards)\n",
        "plt.xlabel('Algorithm')\n",
        "plt.ylabel('Average Reward')\n",
        "plt.title('Comparison of RL Algorithms on Cart-Pole')\n",
        "plt.show()\n",
        "\n",
        "env.close()"
      ]
    },
    {
      "cell_type": "code",
      "execution_count": null,
      "metadata": {},
      "outputs": [],
      "source": []
    }
  ],
  "metadata": {
    "colab": {
      "private_outputs": true,
      "provenance": []
    },
    "kernelspec": {
      "display_name": "Python 3",
      "name": "python3"
    },
    "language_info": {
      "codemirror_mode": {
        "name": "ipython",
        "version": 3
      },
      "file_extension": ".py",
      "mimetype": "text/x-python",
      "name": "python",
      "nbconvert_exporter": "python",
      "pygments_lexer": "ipython3",
      "version": "3.12.2"
    }
  },
  "nbformat": 4,
  "nbformat_minor": 0
}
